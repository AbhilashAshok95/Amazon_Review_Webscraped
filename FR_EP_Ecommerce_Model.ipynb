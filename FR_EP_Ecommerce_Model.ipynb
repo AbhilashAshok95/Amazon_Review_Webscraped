{
 "cells": [
  {
   "cell_type": "markdown",
   "metadata": {},
   "source": [
    "# Review Model\n"
   ]
  },
  {
   "cell_type": "code",
   "execution_count": 1,
   "metadata": {},
   "outputs": [
    {
     "name": "stderr",
     "output_type": "stream",
     "text": [
      "UsageError: unrecognized arguments: # Plots show up in notebook\n"
     ]
    }
   ],
   "source": [
    "import pandas as pd\n",
    "import matplotlib.pyplot as plt\n",
    "import numpy as np\n",
    "import seaborn as sns\n",
    "import math\n",
    "import warnings\n",
    "warnings.filterwarnings('ignore') # Hides warning\n",
    "warnings.filterwarnings(\"ignore\", category=DeprecationWarning)\n",
    "warnings.filterwarnings(\"ignore\",category=UserWarning)\n",
    "sns.set_style(\"whitegrid\") # Plotting style\n",
    "%matplotlib inline # Plots show up in notebook\n",
    "np.random.seed(7) # seeding random number generator"
   ]
  },
  {
   "cell_type": "code",
   "execution_count": 4,
   "metadata": {},
   "outputs": [],
   "source": [
    "df = pd.read_excel(r\"C:\\Users\\Abhilash\\Desktop\\Data Trained\\Flip Robo\\Dataset\\ratings\\Amazon_review_MAster.xlsx\")"
   ]
  },
  {
   "cell_type": "code",
   "execution_count": 5,
   "metadata": {},
   "outputs": [
    {
     "data": {
      "text/html": [
       "<div>\n",
       "<style scoped>\n",
       "    .dataframe tbody tr th:only-of-type {\n",
       "        vertical-align: middle;\n",
       "    }\n",
       "\n",
       "    .dataframe tbody tr th {\n",
       "        vertical-align: top;\n",
       "    }\n",
       "\n",
       "    .dataframe thead th {\n",
       "        text-align: right;\n",
       "    }\n",
       "</style>\n",
       "<table border=\"1\" class=\"dataframe\">\n",
       "  <thead>\n",
       "    <tr style=\"text-align: right;\">\n",
       "      <th></th>\n",
       "      <th>products</th>\n",
       "      <th>title</th>\n",
       "      <th>rating</th>\n",
       "      <th>body</th>\n",
       "      <th>Reference</th>\n",
       "      <th>Type</th>\n",
       "      <th>Company</th>\n",
       "      <th>asins</th>\n",
       "      <th>Model</th>\n",
       "      <th>Webscraped by</th>\n",
       "      <th>Website</th>\n",
       "      <th>Website link</th>\n",
       "    </tr>\n",
       "  </thead>\n",
       "  <tbody>\n",
       "    <tr>\n",
       "      <th>0</th>\n",
       "      <td>HP Ink Tank 415 WiFi Colour Printer, High Capa...</td>\n",
       "      <td>Say No To DeskJet, InkJet, InkTank Printers.</td>\n",
       "      <td>2</td>\n",
       "      <td>HP Ink Tank Wireless 415 series.Initially 1 mo...</td>\n",
       "      <td>HP Printer</td>\n",
       "      <td>Printer</td>\n",
       "      <td>HP</td>\n",
       "      <td>B005PB2T01</td>\n",
       "      <td>NaN</td>\n",
       "      <td>Abhilash</td>\n",
       "      <td>Amazon</td>\n",
       "      <td>www.amazon.in</td>\n",
       "    </tr>\n",
       "    <tr>\n",
       "      <th>1</th>\n",
       "      <td>HP Ink Tank 415 WiFi Colour Printer, High Capa...</td>\n",
       "      <td>Good out of box experience</td>\n",
       "      <td>5</td>\n",
       "      <td>Upgraded from my old HP deskjet with HP 415 Al...</td>\n",
       "      <td>HP Printer</td>\n",
       "      <td>Printer</td>\n",
       "      <td>HP</td>\n",
       "      <td>B00OQVZDJM</td>\n",
       "      <td>NaN</td>\n",
       "      <td>Abhilash</td>\n",
       "      <td>Amazon</td>\n",
       "      <td>www.amazon.in</td>\n",
       "    </tr>\n",
       "    <tr>\n",
       "      <th>2</th>\n",
       "      <td>HP Ink Tank 415 WiFi Colour Printer, High Capa...</td>\n",
       "      <td>One of the best printer for office and home use</td>\n",
       "      <td>5</td>\n",
       "      <td>The printer came in a nice packaging the deliv...</td>\n",
       "      <td>HP Printer</td>\n",
       "      <td>Printer</td>\n",
       "      <td>HP</td>\n",
       "      <td>B018Y22BI4</td>\n",
       "      <td>NaN</td>\n",
       "      <td>Abhilash</td>\n",
       "      <td>Amazon</td>\n",
       "      <td>www.amazon.in</td>\n",
       "    </tr>\n",
       "    <tr>\n",
       "      <th>3</th>\n",
       "      <td>HP Ink Tank 415 WiFi Colour Printer, High Capa...</td>\n",
       "      <td>Find an alternative</td>\n",
       "      <td>1</td>\n",
       "      <td>HP has totally lost the plot when it comes to ...</td>\n",
       "      <td>HP Printer</td>\n",
       "      <td>Printer</td>\n",
       "      <td>HP</td>\n",
       "      <td>B00VINDBJK</td>\n",
       "      <td>NaN</td>\n",
       "      <td>Abhilash</td>\n",
       "      <td>Amazon</td>\n",
       "      <td>www.amazon.in</td>\n",
       "    </tr>\n",
       "    <tr>\n",
       "      <th>4</th>\n",
       "      <td>HP Ink Tank 415 WiFi Colour Printer, High Capa...</td>\n",
       "      <td>Not up to the mark</td>\n",
       "      <td>2</td>\n",
       "      <td>Always hangs and scanner never worked since in...</td>\n",
       "      <td>HP Printer</td>\n",
       "      <td>Printer</td>\n",
       "      <td>HP</td>\n",
       "      <td>B018Y23MNM</td>\n",
       "      <td>NaN</td>\n",
       "      <td>Abhilash</td>\n",
       "      <td>Amazon</td>\n",
       "      <td>www.amazon.in</td>\n",
       "    </tr>\n",
       "  </tbody>\n",
       "</table>\n",
       "</div>"
      ],
      "text/plain": [
       "                                            products  \\\n",
       "0  HP Ink Tank 415 WiFi Colour Printer, High Capa...   \n",
       "1  HP Ink Tank 415 WiFi Colour Printer, High Capa...   \n",
       "2  HP Ink Tank 415 WiFi Colour Printer, High Capa...   \n",
       "3  HP Ink Tank 415 WiFi Colour Printer, High Capa...   \n",
       "4  HP Ink Tank 415 WiFi Colour Printer, High Capa...   \n",
       "\n",
       "                                             title  rating  \\\n",
       "0     Say No To DeskJet, InkJet, InkTank Printers.       2   \n",
       "1                       Good out of box experience       5   \n",
       "2  One of the best printer for office and home use       5   \n",
       "3                              Find an alternative       1   \n",
       "4                               Not up to the mark       2   \n",
       "\n",
       "                                                body   Reference     Type  \\\n",
       "0  HP Ink Tank Wireless 415 series.Initially 1 mo...  HP Printer  Printer   \n",
       "1  Upgraded from my old HP deskjet with HP 415 Al...  HP Printer  Printer   \n",
       "2  The printer came in a nice packaging the deliv...  HP Printer  Printer   \n",
       "3  HP has totally lost the plot when it comes to ...  HP Printer  Printer   \n",
       "4  Always hangs and scanner never worked since in...  HP Printer  Printer   \n",
       "\n",
       "  Company       asins Model Webscraped by Website   Website link  \n",
       "0      HP  B005PB2T01   NaN      Abhilash  Amazon  www.amazon.in  \n",
       "1      HP  B00OQVZDJM   NaN      Abhilash  Amazon  www.amazon.in  \n",
       "2      HP  B018Y22BI4   NaN      Abhilash  Amazon  www.amazon.in  \n",
       "3      HP  B00VINDBJK   NaN      Abhilash  Amazon  www.amazon.in  \n",
       "4      HP  B018Y23MNM   NaN      Abhilash  Amazon  www.amazon.in  "
      ]
     },
     "execution_count": 5,
     "metadata": {},
     "output_type": "execute_result"
    }
   ],
   "source": [
    "df.head()"
   ]
  },
  {
   "cell_type": "code",
   "execution_count": 6,
   "metadata": {},
   "outputs": [
    {
     "data": {
      "text/html": [
       "<div>\n",
       "<style scoped>\n",
       "    .dataframe tbody tr th:only-of-type {\n",
       "        vertical-align: middle;\n",
       "    }\n",
       "\n",
       "    .dataframe tbody tr th {\n",
       "        vertical-align: top;\n",
       "    }\n",
       "\n",
       "    .dataframe thead th {\n",
       "        text-align: right;\n",
       "    }\n",
       "</style>\n",
       "<table border=\"1\" class=\"dataframe\">\n",
       "  <thead>\n",
       "    <tr style=\"text-align: right;\">\n",
       "      <th></th>\n",
       "      <th>rating</th>\n",
       "    </tr>\n",
       "  </thead>\n",
       "  <tbody>\n",
       "    <tr>\n",
       "      <th>count</th>\n",
       "      <td>2154.000000</td>\n",
       "    </tr>\n",
       "    <tr>\n",
       "      <th>mean</th>\n",
       "      <td>3.670845</td>\n",
       "    </tr>\n",
       "    <tr>\n",
       "      <th>std</th>\n",
       "      <td>1.658435</td>\n",
       "    </tr>\n",
       "    <tr>\n",
       "      <th>min</th>\n",
       "      <td>1.000000</td>\n",
       "    </tr>\n",
       "    <tr>\n",
       "      <th>25%</th>\n",
       "      <td>2.000000</td>\n",
       "    </tr>\n",
       "    <tr>\n",
       "      <th>50%</th>\n",
       "      <td>5.000000</td>\n",
       "    </tr>\n",
       "    <tr>\n",
       "      <th>75%</th>\n",
       "      <td>5.000000</td>\n",
       "    </tr>\n",
       "    <tr>\n",
       "      <th>max</th>\n",
       "      <td>5.000000</td>\n",
       "    </tr>\n",
       "  </tbody>\n",
       "</table>\n",
       "</div>"
      ],
      "text/plain": [
       "            rating\n",
       "count  2154.000000\n",
       "mean      3.670845\n",
       "std       1.658435\n",
       "min       1.000000\n",
       "25%       2.000000\n",
       "50%       5.000000\n",
       "75%       5.000000\n",
       "max       5.000000"
      ]
     },
     "execution_count": 6,
     "metadata": {},
     "output_type": "execute_result"
    }
   ],
   "source": [
    "data = df.copy()\n",
    "data.describe()\n",
    "#Tried making a copy of the dataset I have optained"
   ]
  },
  {
   "cell_type": "code",
   "execution_count": 7,
   "metadata": {},
   "outputs": [
    {
     "name": "stdout",
     "output_type": "stream",
     "text": [
      "<class 'pandas.core.frame.DataFrame'>\n",
      "RangeIndex: 2154 entries, 0 to 2153\n",
      "Data columns (total 12 columns):\n",
      " #   Column         Non-Null Count  Dtype \n",
      "---  ------         --------------  ----- \n",
      " 0   products       2154 non-null   object\n",
      " 1   title          2154 non-null   object\n",
      " 2   rating         2154 non-null   int64 \n",
      " 3   body           2154 non-null   object\n",
      " 4   Reference      2154 non-null   object\n",
      " 5   Type           2154 non-null   object\n",
      " 6   Company        2154 non-null   object\n",
      " 7   asins          2154 non-null   object\n",
      " 8   Model          1554 non-null   object\n",
      " 9   Webscraped by  2154 non-null   object\n",
      " 10  Website        2154 non-null   object\n",
      " 11  Website link   2154 non-null   object\n",
      "dtypes: int64(1), object(11)\n",
      "memory usage: 202.1+ KB\n"
     ]
    }
   ],
   "source": [
    "data.info()"
   ]
  },
  {
   "cell_type": "code",
   "execution_count": 8,
   "metadata": {},
   "outputs": [
    {
     "data": {
      "text/plain": [
       "array(['B005PB2T01', 'B00OQVZDJM', 'B018Y22BI4', 'B00VINDBJK',\n",
       "       'B018Y23MNM', 'B01AHB9CN2', 'B01BFIBRIE', 'B01BFIBRIf',\n",
       "       'B011BFIBRIf', 'B01BGIBRIE', 'B02BFIBRIE', 'B01VFIBRIE',\n",
       "       'B01BFISRIE', 'B01BFJBRIE', 'BM1BFIBRIE', 'B11BFIBRIE',\n",
       "       'B01BFIBsIE'], dtype=object)"
      ]
     },
     "execution_count": 8,
     "metadata": {},
     "output_type": "execute_result"
    }
   ],
   "source": [
    "data[\"asins\"].unique()\n",
    "#checking ho my asins have been grouped along"
   ]
  },
  {
   "cell_type": "code",
   "execution_count": 9,
   "metadata": {},
   "outputs": [
    {
     "name": "stdout",
     "output_type": "stream",
     "text": [
      "Number of Unique ASINs: 17\n"
     ]
    }
   ],
   "source": [
    "asins_unique = len(data[\"asins\"].unique())\n",
    "print(\"Number of Unique ASINs: \" + str(asins_unique))"
   ]
  },
  {
   "cell_type": "code",
   "execution_count": 10,
   "metadata": {},
   "outputs": [
    {
     "data": {
      "image/png": "[encoded data removed]",
      "text/plain": [
       "<Figure size 1440x1080 with 1 Axes>"
      ]
     },
     "metadata": {},
     "output_type": "display_data"
    }
   ],
   "source": [
    "data.hist(bins=50, figsize=(20,15)) # builds histogram and set the number of bins and fig size (width, height)\n",
    "plt.show()\n",
    "#Checking how my dataset has been distributed along side of the graph"
   ]
  },
  {
   "cell_type": "code",
   "execution_count": 11,
   "metadata": {},
   "outputs": [
    {
     "name": "stdout",
     "output_type": "stream",
     "text": [
      "Before 2154\n",
      "After 2154\n"
     ]
    }
   ],
   "source": [
    "from sklearn.model_selection import StratifiedShuffleSplit\n",
    "print(\"Before {}\".format(len(data)))\n",
    "dataAfter = data.dropna(subset=[\"rating\"]) # removes all NAN in reviews.rating\n",
    "print(\"After {}\".format(len(dataAfter)))\n",
    "dataAfter[\"rating\"] = dataAfter[\"rating\"].astype(int)"
   ]
  },
  {
   "cell_type": "code",
   "execution_count": 12,
   "metadata": {},
   "outputs": [],
   "source": [
    "split = StratifiedShuffleSplit(n_splits=5, test_size=0.2)\n",
    "for train_index, test_index in split.split(dataAfter, dataAfter[\"rating\"]): \n",
    "    strat_train = dataAfter.reindex(train_index)\n",
    "    strat_test = dataAfter.reindex(test_index)"
   ]
  },
  {
   "cell_type": "code",
   "execution_count": 13,
   "metadata": {},
   "outputs": [
    {
     "data": {
      "text/plain": [
       "1723"
      ]
     },
     "execution_count": 13,
     "metadata": {},
     "output_type": "execute_result"
    }
   ],
   "source": [
    "len(strat_train)"
   ]
  },
  {
   "cell_type": "code",
   "execution_count": 14,
   "metadata": {},
   "outputs": [
    {
     "data": {
      "text/plain": [
       "5    0.527568\n",
       "1    0.228091\n",
       "4    0.124202\n",
       "3    0.068485\n",
       "2    0.051654\n",
       "Name: rating, dtype: float64"
      ]
     },
     "execution_count": 14,
     "metadata": {},
     "output_type": "execute_result"
    }
   ],
   "source": [
    "strat_train[\"rating\"].value_counts()/len(strat_train) # value_count() counts all the values based on column"
   ]
  },
  {
   "cell_type": "code",
   "execution_count": 15,
   "metadata": {},
   "outputs": [
    {
     "data": {
      "text/plain": [
       "431"
      ]
     },
     "execution_count": 15,
     "metadata": {},
     "output_type": "execute_result"
    }
   ],
   "source": [
    "len(strat_test)"
   ]
  },
  {
   "cell_type": "code",
   "execution_count": 16,
   "metadata": {},
   "outputs": [
    {
     "data": {
      "text/plain": [
       "5    0.526682\n",
       "1    0.229698\n",
       "4    0.125290\n",
       "3    0.067285\n",
       "2    0.051044\n",
       "Name: rating, dtype: float64"
      ]
     },
     "execution_count": 16,
     "metadata": {},
     "output_type": "execute_result"
    }
   ],
   "source": [
    "\n",
    "strat_test[\"rating\"].value_counts()/len(strat_test)"
   ]
  },
  {
   "cell_type": "code",
   "execution_count": 17,
   "metadata": {},
   "outputs": [
    {
     "data": {
      "text/html": [
       "<div>\n",
       "<style scoped>\n",
       "    .dataframe tbody tr th:only-of-type {\n",
       "        vertical-align: middle;\n",
       "    }\n",
       "\n",
       "    .dataframe tbody tr th {\n",
       "        vertical-align: top;\n",
       "    }\n",
       "\n",
       "    .dataframe thead th {\n",
       "        text-align: right;\n",
       "    }\n",
       "</style>\n",
       "<table border=\"1\" class=\"dataframe\">\n",
       "  <thead>\n",
       "    <tr style=\"text-align: right;\">\n",
       "      <th></th>\n",
       "      <th>products</th>\n",
       "      <th>title</th>\n",
       "      <th>rating</th>\n",
       "      <th>body</th>\n",
       "      <th>Reference</th>\n",
       "      <th>Type</th>\n",
       "      <th>Company</th>\n",
       "      <th>asins</th>\n",
       "      <th>Model</th>\n",
       "      <th>Webscraped by</th>\n",
       "      <th>Website</th>\n",
       "      <th>Website link</th>\n",
       "    </tr>\n",
       "  </thead>\n",
       "  <tbody>\n",
       "    <tr>\n",
       "      <th>223</th>\n",
       "      <td>Apple iPhone 13 Pro Max (256GB) - Graphite</td>\n",
       "      <td>best Mobile camera in market</td>\n",
       "      <td>5</td>\n",
       "      <td>a</td>\n",
       "      <td>iphone 13 pro max</td>\n",
       "      <td>Mobile</td>\n",
       "      <td>Iphone</td>\n",
       "      <td>B01BFIBRIE</td>\n",
       "      <td>13 Pro Max</td>\n",
       "      <td>Abhilash</td>\n",
       "      <td>Amazon</td>\n",
       "      <td>www.amazon.in</td>\n",
       "    </tr>\n",
       "    <tr>\n",
       "      <th>1935</th>\n",
       "      <td>LG Ultragear 81.28 cm (32-inch) QHD (2K) Gamin...</td>\n",
       "      <td>Good product and rare according to price and c...</td>\n",
       "      <td>5</td>\n",
       "      <td>If china is not a problem ,go for it, I bought...</td>\n",
       "      <td>Lg Monitors</td>\n",
       "      <td>Monitor</td>\n",
       "      <td>LG</td>\n",
       "      <td>B01BFISRIE</td>\n",
       "      <td>Ultragear</td>\n",
       "      <td>Abhilash</td>\n",
       "      <td>Amazon</td>\n",
       "      <td>www.amazon.in</td>\n",
       "    </tr>\n",
       "  </tbody>\n",
       "</table>\n",
       "</div>"
      ],
      "text/plain": [
       "                                               products  \\\n",
       "223          Apple iPhone 13 Pro Max (256GB) - Graphite   \n",
       "1935  LG Ultragear 81.28 cm (32-inch) QHD (2K) Gamin...   \n",
       "\n",
       "                                                  title  rating  \\\n",
       "223                        best Mobile camera in market       5   \n",
       "1935  Good product and rare according to price and c...       5   \n",
       "\n",
       "                                                   body          Reference  \\\n",
       "223                                                   a  iphone 13 pro max   \n",
       "1935  If china is not a problem ,go for it, I bought...        Lg Monitors   \n",
       "\n",
       "         Type Company       asins       Model Webscraped by Website  \\\n",
       "223    Mobile  Iphone  B01BFIBRIE  13 Pro Max      Abhilash  Amazon   \n",
       "1935  Monitor      LG  B01BFISRIE   Ultragear      Abhilash  Amazon   \n",
       "\n",
       "       Website link  \n",
       "223   www.amazon.in  \n",
       "1935  www.amazon.in  "
      ]
     },
     "execution_count": 17,
     "metadata": {},
     "output_type": "execute_result"
    }
   ],
   "source": [
    "reviews = strat_train.copy()\n",
    "reviews.head(2)"
   ]
  },
  {
   "cell_type": "code",
   "execution_count": 22,
   "metadata": {},
   "outputs": [
    {
     "data": {
      "text/plain": [
       "(14, 17)"
      ]
     },
     "execution_count": 22,
     "metadata": {},
     "output_type": "execute_result"
    }
   ],
   "source": [
    "len(reviews[\"products\"].unique()), len(reviews[\"asins\"].unique())"
   ]
  },
  {
   "cell_type": "code",
   "execution_count": 23,
   "metadata": {},
   "outputs": [
    {
     "name": "stdout",
     "output_type": "stream",
     "text": [
      "<class 'pandas.core.frame.DataFrame'>\n",
      "Int64Index: 1723 entries, 223 to 1892\n",
      "Data columns (total 12 columns):\n",
      " #   Column         Non-Null Count  Dtype \n",
      "---  ------         --------------  ----- \n",
      " 0   products       1723 non-null   object\n",
      " 1   title          1723 non-null   object\n",
      " 2   rating         1723 non-null   int32 \n",
      " 3   body           1723 non-null   object\n",
      " 4   Reference      1723 non-null   object\n",
      " 5   Type           1723 non-null   object\n",
      " 6   Company        1723 non-null   object\n",
      " 7   asins          1723 non-null   object\n",
      " 8   Model          1234 non-null   object\n",
      " 9   Webscraped by  1723 non-null   object\n",
      " 10  Website        1723 non-null   object\n",
      " 11  Website link   1723 non-null   object\n",
      "dtypes: int32(1), object(11)\n",
      "memory usage: 168.3+ KB\n"
     ]
    }
   ],
   "source": [
    "reviews.info()"
   ]
  },
  {
   "cell_type": "code",
   "execution_count": 24,
   "metadata": {},
   "outputs": [
    {
     "data": {
      "text/plain": [
       "asins\n",
       "B005PB2T01     [HP Ink Tank 415 WiFi Colour Printer, High Cap...\n",
       "B00OQVZDJM     [HP Ink Tank 415 WiFi Colour Printer, High Cap...\n",
       "B00VINDBJK     [HP Ink Tank 415 WiFi Colour Printer, High Cap...\n",
       "B011BFIBRIf               [Apple iPhone 13 Pro (128GB) - Silver]\n",
       "B018Y22BI4     [HP Ink Tank 415 WiFi Colour Printer, High Cap...\n",
       "B018Y23MNM     [HP Ink Tank 415 WiFi Colour Printer, High Cap...\n",
       "B01AHB9CN2     [HP Ink Tank 415 WiFi Colour Printer, High Cap...\n",
       "B01BFIBRIE     [Apple iPhone 13 Pro Max (256GB) - Graphite, S...\n",
       "B01BFIBRIf     [Apple iPhone 13 Pro (128GB) - Silver, HP Ink ...\n",
       "B01BFIBsIE     [Zebronics Wired Keyboard and Mouse Combo with...\n",
       "B01BFISRIE     [LG Ultragear 81.28 cm (32-inch) QHD (2K) Gami...\n",
       "B01BFJBRIE     [LG Ultragear 81.28 cm (32-inch) QHD (2K) Gami...\n",
       "B01BGIBRIE                [Apple iPhone 13 Pro (128GB) - Silver]\n",
       "B01VFIBRIE         [Dyson V10 Absolute Cord-Free Vacuum Cleaner]\n",
       "B02BFIBRIE     [Fire TV Stick Lite with Alexa Voice Remote Li...\n",
       "B11BFIBRIE     [Zebronics Wired Keyboard and Mouse Combo with...\n",
       "BM1BFIBRIE     [Zebronics Wired Keyboard and Mouse Combo with...\n",
       "Name: products, dtype: object"
      ]
     },
     "execution_count": 24,
     "metadata": {},
     "output_type": "execute_result"
    }
   ],
   "source": [
    "reviews.groupby(\"asins\")[\"products\"].unique()"
   ]
  },
  {
   "cell_type": "code",
   "execution_count": 25,
   "metadata": {},
   "outputs": [
    {
     "data": {
      "image/png": "[encoded data removed]",
      "text/plain": [
       "<Figure size 1152x720 with 2 Axes>"
      ]
     },
     "metadata": {},
     "output_type": "display_data"
    }
   ],
   "source": [
    "fig = plt.figure(figsize=(16,10))\n",
    "ax1 = plt.subplot(211)\n",
    "ax2 = plt.subplot(212, sharex = ax1)\n",
    "reviews[\"asins\"].value_counts().plot(kind=\"bar\", ax=ax1, title=\"ASIN Frequency\")\n",
    "np.log10(reviews[\"asins\"].value_counts()).plot(kind=\"bar\", ax=ax2, title=\"ASIN Frequency (Log10 Adjusted)\") \n",
    "plt.show()"
   ]
  },
  {
   "cell_type": "code",
   "execution_count": 26,
   "metadata": {},
   "outputs": [
    {
     "data": {
      "text/plain": [
       "3.6715031921067904"
      ]
     },
     "execution_count": 26,
     "metadata": {},
     "output_type": "execute_result"
    }
   ],
   "source": [
    "# Entire training dataset average rating\n",
    "reviews[\"rating\"].mean()"
   ]
  },
  {
   "cell_type": "code",
   "execution_count": 27,
   "metadata": {},
   "outputs": [
    {
     "data": {
      "image/png": "[encoded data removed]",
      "text/plain": [
       "<Figure size 1152x864 with 2 Axes>"
      ]
     },
     "metadata": {},
     "output_type": "display_data"
    }
   ],
   "source": [
    "asins_count_ix = reviews[\"asins\"].value_counts().index\n",
    "plt.subplots(2,1,figsize=(16,12))\n",
    "plt.subplot(2,1,1)\n",
    "reviews[\"asins\"].value_counts().plot(kind=\"bar\", title=\"ASIN Frequency\")\n",
    "plt.subplot(2,1,2)\n",
    "sns.pointplot(x=\"asins\", y=\"rating\", order=asins_count_ix, data=reviews)\n",
    "plt.xticks(rotation=90)\n",
    "plt.show()"
   ]
  },
  {
   "cell_type": "code",
   "execution_count": 29,
   "metadata": {},
   "outputs": [
    {
     "data": {
      "text/html": [
       "<div>\n",
       "<style scoped>\n",
       "    .dataframe tbody tr th:only-of-type {\n",
       "        vertical-align: middle;\n",
       "    }\n",
       "\n",
       "    .dataframe tbody tr th {\n",
       "        vertical-align: top;\n",
       "    }\n",
       "\n",
       "    .dataframe thead th {\n",
       "        text-align: right;\n",
       "    }\n",
       "</style>\n",
       "<table border=\"1\" class=\"dataframe\">\n",
       "  <thead>\n",
       "    <tr style=\"text-align: right;\">\n",
       "      <th></th>\n",
       "      <th>rating</th>\n",
       "    </tr>\n",
       "  </thead>\n",
       "  <tbody>\n",
       "    <tr>\n",
       "      <th>rating</th>\n",
       "      <td>1.0</td>\n",
       "    </tr>\n",
       "  </tbody>\n",
       "</table>\n",
       "</div>"
      ],
      "text/plain": [
       "        rating\n",
       "rating     1.0"
      ]
     },
     "execution_count": 29,
     "metadata": {},
     "output_type": "execute_result"
    }
   ],
   "source": [
    "corr_matrix = reviews.corr()\n",
    "corr_matrix\n",
    "# Here we can analyze reviews.ratings with asins"
   ]
  },
  {
   "cell_type": "code",
   "execution_count": 30,
   "metadata": {},
   "outputs": [
    {
     "name": "stdout",
     "output_type": "stream",
     "text": [
      "<class 'pandas.core.frame.DataFrame'>\n",
      "Int64Index: 1723 entries, 223 to 1892\n",
      "Data columns (total 12 columns):\n",
      " #   Column         Non-Null Count  Dtype \n",
      "---  ------         --------------  ----- \n",
      " 0   products       1723 non-null   object\n",
      " 1   title          1723 non-null   object\n",
      " 2   rating         1723 non-null   int32 \n",
      " 3   body           1723 non-null   object\n",
      " 4   Reference      1723 non-null   object\n",
      " 5   Type           1723 non-null   object\n",
      " 6   Company        1723 non-null   object\n",
      " 7   asins          1723 non-null   object\n",
      " 8   Model          1234 non-null   object\n",
      " 9   Webscraped by  1723 non-null   object\n",
      " 10  Website        1723 non-null   object\n",
      " 11  Website link   1723 non-null   object\n",
      "dtypes: int32(1), object(11)\n",
      "memory usage: 248.3+ KB\n"
     ]
    }
   ],
   "source": [
    "reviews.info()"
   ]
  },
  {
   "cell_type": "code",
   "execution_count": 31,
   "metadata": {},
   "outputs": [
    {
     "data": {
      "text/html": [
       "<div>\n",
       "<style scoped>\n",
       "    .dataframe tbody tr th:only-of-type {\n",
       "        vertical-align: middle;\n",
       "    }\n",
       "\n",
       "    .dataframe tbody tr th {\n",
       "        vertical-align: top;\n",
       "    }\n",
       "\n",
       "    .dataframe thead th {\n",
       "        text-align: right;\n",
       "    }\n",
       "</style>\n",
       "<table border=\"1\" class=\"dataframe\">\n",
       "  <thead>\n",
       "    <tr style=\"text-align: right;\">\n",
       "      <th></th>\n",
       "      <th>asins</th>\n",
       "    </tr>\n",
       "  </thead>\n",
       "  <tbody>\n",
       "    <tr>\n",
       "      <th>B01BFIBRIE</th>\n",
       "      <td>1395</td>\n",
       "    </tr>\n",
       "    <tr>\n",
       "      <th>B01BFIBsIE</th>\n",
       "      <td>61</td>\n",
       "    </tr>\n",
       "    <tr>\n",
       "      <th>B01VFIBRIE</th>\n",
       "      <td>47</td>\n",
       "    </tr>\n",
       "    <tr>\n",
       "      <th>BM1BFIBRIE</th>\n",
       "      <td>35</td>\n",
       "    </tr>\n",
       "    <tr>\n",
       "      <th>B11BFIBRIE</th>\n",
       "      <td>35</td>\n",
       "    </tr>\n",
       "  </tbody>\n",
       "</table>\n",
       "</div>"
      ],
      "text/plain": [
       "            asins\n",
       "B01BFIBRIE   1395\n",
       "B01BFIBsIE     61\n",
       "B01VFIBRIE     47\n",
       "BM1BFIBRIE     35\n",
       "B11BFIBRIE     35"
      ]
     },
     "execution_count": 31,
     "metadata": {},
     "output_type": "execute_result"
    }
   ],
   "source": [
    "counts = reviews[\"asins\"].value_counts().to_frame()\n",
    "counts.head()"
   ]
  },
  {
   "cell_type": "code",
   "execution_count": 32,
   "metadata": {},
   "outputs": [
    {
     "data": {
      "text/html": [
       "<div>\n",
       "<style scoped>\n",
       "    .dataframe tbody tr th:only-of-type {\n",
       "        vertical-align: middle;\n",
       "    }\n",
       "\n",
       "    .dataframe tbody tr th {\n",
       "        vertical-align: top;\n",
       "    }\n",
       "\n",
       "    .dataframe thead th {\n",
       "        text-align: right;\n",
       "    }\n",
       "</style>\n",
       "<table border=\"1\" class=\"dataframe\">\n",
       "  <thead>\n",
       "    <tr style=\"text-align: right;\">\n",
       "      <th></th>\n",
       "      <th>rating</th>\n",
       "    </tr>\n",
       "    <tr>\n",
       "      <th>asins</th>\n",
       "      <th></th>\n",
       "    </tr>\n",
       "  </thead>\n",
       "  <tbody>\n",
       "    <tr>\n",
       "      <th>B005PB2T01</th>\n",
       "      <td>2.000000</td>\n",
       "    </tr>\n",
       "    <tr>\n",
       "      <th>B00OQVZDJM</th>\n",
       "      <td>5.000000</td>\n",
       "    </tr>\n",
       "    <tr>\n",
       "      <th>B00VINDBJK</th>\n",
       "      <td>1.000000</td>\n",
       "    </tr>\n",
       "    <tr>\n",
       "      <th>B011BFIBRIf</th>\n",
       "      <td>4.727273</td>\n",
       "    </tr>\n",
       "    <tr>\n",
       "      <th>B018Y22BI4</th>\n",
       "      <td>5.000000</td>\n",
       "    </tr>\n",
       "  </tbody>\n",
       "</table>\n",
       "</div>"
      ],
      "text/plain": [
       "               rating\n",
       "asins                \n",
       "B005PB2T01   2.000000\n",
       "B00OQVZDJM   5.000000\n",
       "B00VINDBJK   1.000000\n",
       "B011BFIBRIf  4.727273\n",
       "B018Y22BI4   5.000000"
      ]
     },
     "execution_count": 32,
     "metadata": {},
     "output_type": "execute_result"
    }
   ],
   "source": [
    "avg_rating = reviews.groupby(\"asins\")[\"rating\"].mean().to_frame()\n",
    "avg_rating.head()"
   ]
  },
  {
   "cell_type": "code",
   "execution_count": 33,
   "metadata": {},
   "outputs": [
    {
     "data": {
      "text/html": [
       "<div>\n",
       "<style scoped>\n",
       "    .dataframe tbody tr th:only-of-type {\n",
       "        vertical-align: middle;\n",
       "    }\n",
       "\n",
       "    .dataframe tbody tr th {\n",
       "        vertical-align: top;\n",
       "    }\n",
       "\n",
       "    .dataframe thead th {\n",
       "        text-align: right;\n",
       "    }\n",
       "</style>\n",
       "<table border=\"1\" class=\"dataframe\">\n",
       "  <thead>\n",
       "    <tr style=\"text-align: right;\">\n",
       "      <th></th>\n",
       "      <th>asins</th>\n",
       "      <th>rating</th>\n",
       "    </tr>\n",
       "  </thead>\n",
       "  <tbody>\n",
       "    <tr>\n",
       "      <th>B01BFIBRIE</th>\n",
       "      <td>1395</td>\n",
       "      <td>3.610753</td>\n",
       "    </tr>\n",
       "    <tr>\n",
       "      <th>B01BFIBsIE</th>\n",
       "      <td>61</td>\n",
       "      <td>2.688525</td>\n",
       "    </tr>\n",
       "    <tr>\n",
       "      <th>B01VFIBRIE</th>\n",
       "      <td>47</td>\n",
       "      <td>4.851064</td>\n",
       "    </tr>\n",
       "    <tr>\n",
       "      <th>BM1BFIBRIE</th>\n",
       "      <td>35</td>\n",
       "      <td>4.971429</td>\n",
       "    </tr>\n",
       "    <tr>\n",
       "      <th>B11BFIBRIE</th>\n",
       "      <td>35</td>\n",
       "      <td>2.971429</td>\n",
       "    </tr>\n",
       "    <tr>\n",
       "      <th>B011BFIBRIf</th>\n",
       "      <td>33</td>\n",
       "      <td>4.727273</td>\n",
       "    </tr>\n",
       "    <tr>\n",
       "      <th>B01BFISRIE</th>\n",
       "      <td>32</td>\n",
       "      <td>3.718750</td>\n",
       "    </tr>\n",
       "    <tr>\n",
       "      <th>B01BFJBRIE</th>\n",
       "      <td>27</td>\n",
       "      <td>4.148148</td>\n",
       "    </tr>\n",
       "    <tr>\n",
       "      <th>B01BFIBRIf</th>\n",
       "      <td>26</td>\n",
       "      <td>4.346154</td>\n",
       "    </tr>\n",
       "    <tr>\n",
       "      <th>B02BFIBRIE</th>\n",
       "      <td>24</td>\n",
       "      <td>3.791667</td>\n",
       "    </tr>\n",
       "    <tr>\n",
       "      <th>B01BGIBRIE</th>\n",
       "      <td>2</td>\n",
       "      <td>5.000000</td>\n",
       "    </tr>\n",
       "    <tr>\n",
       "      <th>B01AHB9CN2</th>\n",
       "      <td>1</td>\n",
       "      <td>3.000000</td>\n",
       "    </tr>\n",
       "    <tr>\n",
       "      <th>B005PB2T01</th>\n",
       "      <td>1</td>\n",
       "      <td>2.000000</td>\n",
       "    </tr>\n",
       "    <tr>\n",
       "      <th>B018Y22BI4</th>\n",
       "      <td>1</td>\n",
       "      <td>5.000000</td>\n",
       "    </tr>\n",
       "    <tr>\n",
       "      <th>B00VINDBJK</th>\n",
       "      <td>1</td>\n",
       "      <td>1.000000</td>\n",
       "    </tr>\n",
       "    <tr>\n",
       "      <th>B018Y23MNM</th>\n",
       "      <td>1</td>\n",
       "      <td>2.000000</td>\n",
       "    </tr>\n",
       "    <tr>\n",
       "      <th>B00OQVZDJM</th>\n",
       "      <td>1</td>\n",
       "      <td>5.000000</td>\n",
       "    </tr>\n",
       "  </tbody>\n",
       "</table>\n",
       "</div>"
      ],
      "text/plain": [
       "             asins    rating\n",
       "B01BFIBRIE    1395  3.610753\n",
       "B01BFIBsIE      61  2.688525\n",
       "B01VFIBRIE      47  4.851064\n",
       "BM1BFIBRIE      35  4.971429\n",
       "B11BFIBRIE      35  2.971429\n",
       "B011BFIBRIf     33  4.727273\n",
       "B01BFISRIE      32  3.718750\n",
       "B01BFJBRIE      27  4.148148\n",
       "B01BFIBRIf      26  4.346154\n",
       "B02BFIBRIE      24  3.791667\n",
       "B01BGIBRIE       2  5.000000\n",
       "B01AHB9CN2       1  3.000000\n",
       "B005PB2T01       1  2.000000\n",
       "B018Y22BI4       1  5.000000\n",
       "B00VINDBJK       1  1.000000\n",
       "B018Y23MNM       1  2.000000\n",
       "B00OQVZDJM       1  5.000000"
      ]
     },
     "execution_count": 33,
     "metadata": {},
     "output_type": "execute_result"
    }
   ],
   "source": [
    "table = counts.join(avg_rating)\n",
    "table.head(30)"
   ]
  },
  {
   "cell_type": "code",
   "execution_count": 34,
   "metadata": {},
   "outputs": [
    {
     "data": {
      "text/html": [
       "<div>\n",
       "<style scoped>\n",
       "    .dataframe tbody tr th:only-of-type {\n",
       "        vertical-align: middle;\n",
       "    }\n",
       "\n",
       "    .dataframe tbody tr th {\n",
       "        vertical-align: top;\n",
       "    }\n",
       "\n",
       "    .dataframe thead th {\n",
       "        text-align: right;\n",
       "    }\n",
       "</style>\n",
       "<table border=\"1\" class=\"dataframe\">\n",
       "  <thead>\n",
       "    <tr style=\"text-align: right;\">\n",
       "      <th></th>\n",
       "      <th>asins</th>\n",
       "      <th>rating</th>\n",
       "    </tr>\n",
       "  </thead>\n",
       "  <tbody>\n",
       "    <tr>\n",
       "      <th>asins</th>\n",
       "      <td>1.00000</td>\n",
       "      <td>-0.00624</td>\n",
       "    </tr>\n",
       "    <tr>\n",
       "      <th>rating</th>\n",
       "      <td>-0.00624</td>\n",
       "      <td>1.00000</td>\n",
       "    </tr>\n",
       "  </tbody>\n",
       "</table>\n",
       "</div>"
      ],
      "text/plain": [
       "          asins   rating\n",
       "asins   1.00000 -0.00624\n",
       "rating -0.00624  1.00000"
      ]
     },
     "execution_count": 34,
     "metadata": {},
     "output_type": "execute_result"
    },
    {
     "data": {
      "image/png": "[encoded data removed]",
      "text/plain": [
       "<Figure size 432x288 with 1 Axes>"
      ]
     },
     "metadata": {},
     "output_type": "display_data"
    }
   ],
   "source": [
    "plt.scatter(\"asins\", \"rating\", data=table)\n",
    "table.corr()"
   ]
  },
  {
   "cell_type": "code",
   "execution_count": 35,
   "metadata": {},
   "outputs": [
    {
     "data": {
      "text/plain": [
       "223     Positive\n",
       "1935    Positive\n",
       "912     Positive\n",
       "1353     Neutral\n",
       "259     Positive\n",
       "1755    Positive\n",
       "1855    Positive\n",
       "1825    Positive\n",
       "320     Positive\n",
       "1867    Positive\n",
       "1441    Positive\n",
       "1941    Positive\n",
       "1477    Negative\n",
       "1920    Negative\n",
       "180     Positive\n",
       "1860    Positive\n",
       "2011    Positive\n",
       "1490    Negative\n",
       "663     Positive\n",
       "346     Negative\n",
       "Name: Sentiment, dtype: object"
      ]
     },
     "execution_count": 35,
     "metadata": {},
     "output_type": "execute_result"
    }
   ],
   "source": [
    "def sentiments(rating):\n",
    "    if (rating == 5) or (rating == 4):\n",
    "        return \"Positive\"\n",
    "    elif rating == 3:\n",
    "        return \"Neutral\"\n",
    "    elif (rating == 2) or (rating == 1):\n",
    "        return \"Negative\"\n",
    "# Add sentiments to the data\n",
    "strat_train[\"Sentiment\"] = strat_train[\"rating\"].apply(sentiments)\n",
    "strat_test[\"Sentiment\"] = strat_test[\"rating\"].apply(sentiments)\n",
    "strat_train[\"Sentiment\"][:20]"
   ]
  },
  {
   "cell_type": "code",
   "execution_count": 38,
   "metadata": {},
   "outputs": [
    {
     "name": "stdout",
     "output_type": "stream",
     "text": [
      "1723 431\n"
     ]
    }
   ],
   "source": [
    "# Prepare data\n",
    "X_train = strat_train[\"body\"]\n",
    "X_train_targetSentiment = strat_train[\"Sentiment\"]\n",
    "X_test = strat_test[\"body\"]\n",
    "X_test_targetSentiment = strat_test[\"Sentiment\"]\n",
    "print(len(X_train), len(X_test))"
   ]
  },
  {
   "cell_type": "code",
   "execution_count": 39,
   "metadata": {},
   "outputs": [
    {
     "data": {
      "text/plain": [
       "(1723, 5564)"
      ]
     },
     "execution_count": 39,
     "metadata": {},
     "output_type": "execute_result"
    }
   ],
   "source": [
    "# Replace \"nan\" with space\n",
    "X_train = X_train.fillna(' ')\n",
    "X_test = X_test.fillna(' ')\n",
    "X_train_targetSentiment = X_train_targetSentiment.fillna(' ')\n",
    "X_test_targetSentiment = X_test_targetSentiment.fillna(' ')\n",
    "\n",
    "# Text preprocessing and occurance counting\n",
    "from sklearn.feature_extraction.text import CountVectorizer \n",
    "count_vect = CountVectorizer()\n",
    "X_train_counts = count_vect.fit_transform(X_train) \n",
    "X_train_counts.shape"
   ]
  },
  {
   "cell_type": "code",
   "execution_count": 40,
   "metadata": {},
   "outputs": [
    {
     "data": {
      "text/plain": [
       "(1723, 5564)"
      ]
     },
     "execution_count": 40,
     "metadata": {},
     "output_type": "execute_result"
    }
   ],
   "source": [
    "from sklearn.feature_extraction.text import TfidfTransformer\n",
    "tfidf_transformer = TfidfTransformer(use_idf=False)\n",
    "X_train_tfidf = tfidf_transformer.fit_transform(X_train_counts)\n",
    "X_train_tfidf.shape"
   ]
  },
  {
   "cell_type": "code",
   "execution_count": 41,
   "metadata": {},
   "outputs": [
    {
     "data": {
      "text/plain": [
       "Pipeline(steps=[('vect', CountVectorizer()), ('tfidf', TfidfTransformer()),\n",
       "                ('clf_nominalNB', MultinomialNB())])"
      ]
     },
     "execution_count": 41,
     "metadata": {},
     "output_type": "execute_result"
    }
   ],
   "source": [
    "from sklearn.naive_bayes import MultinomialNB\n",
    "from sklearn.pipeline import Pipeline\n",
    "clf_multiNB_pipe = Pipeline([(\"vect\", CountVectorizer()), (\"tfidf\", TfidfTransformer()), (\"clf_nominalNB\", MultinomialNB())])\n",
    "clf_multiNB_pipe.fit(X_train, X_train_targetSentiment)"
   ]
  },
  {
   "cell_type": "code",
   "execution_count": 42,
   "metadata": {},
   "outputs": [
    {
     "data": {
      "text/plain": [
       "0.7610208816705336"
      ]
     },
     "execution_count": 42,
     "metadata": {},
     "output_type": "execute_result"
    }
   ],
   "source": [
    "import numpy as np\n",
    "predictedMultiNB = clf_multiNB_pipe.predict(X_test)\n",
    "np.mean(predictedMultiNB == X_test_targetSentiment)"
   ]
  },
  {
   "cell_type": "markdown",
   "metadata": {},
   "source": [
    "# Logistic Regression"
   ]
  },
  {
   "cell_type": "code",
   "execution_count": 43,
   "metadata": {},
   "outputs": [
    {
     "data": {
      "text/plain": [
       "0.8584686774941995"
      ]
     },
     "execution_count": 43,
     "metadata": {},
     "output_type": "execute_result"
    }
   ],
   "source": [
    "from sklearn.linear_model import LogisticRegression\n",
    "from sklearn.pipeline import Pipeline\n",
    "clf_logReg_pipe = Pipeline([(\"vect\", CountVectorizer()), (\"tfidf\", TfidfTransformer()), (\"clf_logReg\", LogisticRegression())])\n",
    "clf_logReg_pipe.fit(X_train, X_train_targetSentiment)\n",
    "\n",
    "import numpy as np\n",
    "predictedLogReg = clf_logReg_pipe.predict(X_test)\n",
    "np.mean(predictedLogReg == X_test_targetSentiment)"
   ]
  },
  {
   "cell_type": "markdown",
   "metadata": {},
   "source": [
    "# SVM"
   ]
  },
  {
   "cell_type": "code",
   "execution_count": 44,
   "metadata": {},
   "outputs": [
    {
     "data": {
      "text/plain": [
       "0.8955916473317865"
      ]
     },
     "execution_count": 44,
     "metadata": {},
     "output_type": "execute_result"
    }
   ],
   "source": [
    "from sklearn.svm import LinearSVC\n",
    "clf_linearSVC_pipe = Pipeline([(\"vect\", CountVectorizer()), (\"tfidf\", TfidfTransformer()), (\"clf_linearSVC\", LinearSVC())])\n",
    "clf_linearSVC_pipe.fit(X_train, X_train_targetSentiment)\n",
    "\n",
    "predictedLinearSVC = clf_linearSVC_pipe.predict(X_test)\n",
    "np.mean(predictedLinearSVC == X_test_targetSentiment)"
   ]
  },
  {
   "cell_type": "markdown",
   "metadata": {},
   "source": [
    "# Decission Tree Classifier"
   ]
  },
  {
   "cell_type": "code",
   "execution_count": 45,
   "metadata": {},
   "outputs": [
    {
     "data": {
      "text/plain": [
       "0.8306264501160093"
      ]
     },
     "execution_count": 45,
     "metadata": {},
     "output_type": "execute_result"
    }
   ],
   "source": [
    "from sklearn.tree import DecisionTreeClassifier\n",
    "clf_decisionTree_pipe = Pipeline([(\"vect\", CountVectorizer()), (\"tfidf\", TfidfTransformer()), \n",
    "                                  (\"clf_decisionTree\", DecisionTreeClassifier())])\n",
    "clf_decisionTree_pipe.fit(X_train, X_train_targetSentiment)\n",
    "\n",
    "predictedDecisionTree = clf_decisionTree_pipe.predict(X_test)\n",
    "np.mean(predictedDecisionTree == X_test_targetSentiment)"
   ]
  },
  {
   "cell_type": "markdown",
   "metadata": {},
   "source": [
    "# Random Forrest CLassifier"
   ]
  },
  {
   "cell_type": "code",
   "execution_count": 46,
   "metadata": {},
   "outputs": [
    {
     "data": {
      "text/plain": [
       "0.8979118329466357"
      ]
     },
     "execution_count": 46,
     "metadata": {},
     "output_type": "execute_result"
    }
   ],
   "source": [
    "from sklearn.ensemble import RandomForestClassifier\n",
    "clf_randomForest_pipe = Pipeline([(\"vect\", CountVectorizer()), (\"tfidf\", TfidfTransformer()), (\"clf_randomForest\", RandomForestClassifier())])\n",
    "clf_randomForest_pipe.fit(X_train, X_train_targetSentiment)\n",
    "\n",
    "predictedRandomForest = clf_randomForest_pipe.predict(X_test)\n",
    "np.mean(predictedRandomForest == X_test_targetSentiment)"
   ]
  },
  {
   "cell_type": "code",
   "execution_count": null,
   "metadata": {},
   "outputs": [],
   "source": []
  }
 ],
 "metadata": {
  "kernelspec": {
   "display_name": "Python 3",
   "language": "python",
   "name": "python3"
  },
  "language_info": {
   "codemirror_mode": {
    "name": "ipython",
    "version": 3
   },
   "file_extension": ".py",
   "mimetype": "text/x-python",
   "name": "python",
   "nbconvert_exporter": "python",
   "pygments_lexer": "ipython3",
   "version": "3.8.5"
  }
 },
 "nbformat": 4,
 "nbformat_minor": 4
}
